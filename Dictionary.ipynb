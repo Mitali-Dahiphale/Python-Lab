{
  "nbformat": 4,
  "nbformat_minor": 0,
  "metadata": {
    "colab": {
      "provenance": []
    },
    "kernelspec": {
      "name": "python3",
      "display_name": "Python 3"
    },
    "language_info": {
      "name": "python"
    }
  },
  "cells": [
    {
      "cell_type": "code",
      "execution_count": null,
      "metadata": {
        "colab": {
          "base_uri": "https://localhost:8080/"
        },
        "id": "P0Ml8A4ofTBN",
        "outputId": "7e317d8d-2c71-4ab5-c7c3-f3313505908d"
      },
      "outputs": [
        {
          "output_type": "stream",
          "name": "stdout",
          "text": [
            "{1: 'apple', 2: 'macbook'}\n"
          ]
        }
      ],
      "source": [
        "#Examples of Dictionary\n",
        "mydict={1:'apple',2:'macbook'}\n",
        "print(mydict)"
      ]
    },
    {
      "cell_type": "code",
      "source": [
        "#dict with mixed key\n",
        "mydict={1:'apple','laptop':'macbook','price':'23456','2.3':'m1'}\n",
        "print(mydict)\n",
        "print(len(mydict))\n"
      ],
      "metadata": {
        "colab": {
          "base_uri": "https://localhost:8080/"
        },
        "id": "-eh4LqtxhRSM",
        "outputId": "3530357e-e70c-4261-a55e-6ef789a752f8"
      },
      "execution_count": null,
      "outputs": [
        {
          "output_type": "stream",
          "name": "stdout",
          "text": [
            "{1: 'apple', 'laptop': 'macbook', 'price': '23456', '2.3': 'm1'}\n",
            "4\n"
          ]
        }
      ]
    },
    {
      "cell_type": "code",
      "source": [
        "# access element from dictionary\n",
        "#get vs []\n",
        "mydict={1:'python',2:'c++',3:'c',4:'java','c':\"good language\"}\n",
        "print(mydict)\n",
        "print(mydict[1])\n",
        "print(mydict.get())\n",
        "print(mydict.set('c'))\n",
        "\n"
      ],
      "metadata": {
        "colab": {
          "base_uri": "https://localhost:8080/",
          "height": 245
        },
        "id": "HjUgCMJ1iQjf",
        "outputId": "0170890f-da5c-4511-d01f-856b87a0ae8b"
      },
      "execution_count": null,
      "outputs": [
        {
          "output_type": "stream",
          "name": "stdout",
          "text": [
            "{1: 'python', 2: 'c++', 3: 'c', 4: 'java', 'c': 'good language'}\n",
            "python\n"
          ]
        },
        {
          "output_type": "error",
          "ename": "TypeError",
          "evalue": "get expected at least 1 argument, got 0",
          "traceback": [
            "\u001b[0;31m---------------------------------------------------------------------------\u001b[0m",
            "\u001b[0;31mTypeError\u001b[0m                                 Traceback (most recent call last)",
            "\u001b[0;32m<ipython-input-11-46e21e3805c2>\u001b[0m in \u001b[0;36m<cell line: 6>\u001b[0;34m()\u001b[0m\n\u001b[1;32m      4\u001b[0m \u001b[0mprint\u001b[0m\u001b[0;34m(\u001b[0m\u001b[0mmydict\u001b[0m\u001b[0;34m)\u001b[0m\u001b[0;34m\u001b[0m\u001b[0;34m\u001b[0m\u001b[0m\n\u001b[1;32m      5\u001b[0m \u001b[0mprint\u001b[0m\u001b[0;34m(\u001b[0m\u001b[0mmydict\u001b[0m\u001b[0;34m[\u001b[0m\u001b[0;36m1\u001b[0m\u001b[0;34m]\u001b[0m\u001b[0;34m)\u001b[0m\u001b[0;34m\u001b[0m\u001b[0;34m\u001b[0m\u001b[0m\n\u001b[0;32m----> 6\u001b[0;31m \u001b[0mprint\u001b[0m\u001b[0;34m(\u001b[0m\u001b[0mmydict\u001b[0m\u001b[0;34m.\u001b[0m\u001b[0mget\u001b[0m\u001b[0;34m(\u001b[0m\u001b[0;34m)\u001b[0m\u001b[0;34m)\u001b[0m\u001b[0;34m\u001b[0m\u001b[0;34m\u001b[0m\u001b[0m\n\u001b[0m\u001b[1;32m      7\u001b[0m \u001b[0mprint\u001b[0m\u001b[0;34m(\u001b[0m\u001b[0mmydict\u001b[0m\u001b[0;34m.\u001b[0m\u001b[0mset\u001b[0m\u001b[0;34m(\u001b[0m\u001b[0;34m'c'\u001b[0m\u001b[0;34m)\u001b[0m\u001b[0;34m)\u001b[0m\u001b[0;34m\u001b[0m\u001b[0;34m\u001b[0m\u001b[0m\n\u001b[1;32m      8\u001b[0m \u001b[0;34m\u001b[0m\u001b[0m\n",
            "\u001b[0;31mTypeError\u001b[0m: get expected at least 1 argument, got 0"
          ]
        }
      ]
    },
    {
      "cell_type": "code",
      "source": [
        "#changing and adding dictionary element\n",
        "mydict={'name':'arun','age':'22'}\n",
        "mydict['age']=23    #update value\n",
        "print(mydict)\n",
        "mydict['address']='downtown'   #adding\n",
        "print(mydict)"
      ],
      "metadata": {
        "colab": {
          "base_uri": "https://localhost:8080/"
        },
        "id": "PA0FC2rzjK1_",
        "outputId": "e44bbdbc-e0a0-44a4-d930-50cf10b163b9"
      },
      "execution_count": null,
      "outputs": [
        {
          "output_type": "stream",
          "name": "stdout",
          "text": [
            "{'name': 'arun', 'age': 23}\n",
            "{'name': 'arun', 'age': 23, 'address': 'downtown'}\n"
          ]
        }
      ]
    },
    {
      "cell_type": "code",
      "source": [
        "# create dictionary with popular programming language python,java,c and in dictionary add two language R,PHP\n",
        "mydict={1:'python',2:'java',3:'c'}\n",
        "mydict[4]='R'\n",
        "mydict[5]='PHP'\n",
        "print(mydict)"
      ],
      "metadata": {
        "colab": {
          "base_uri": "https://localhost:8080/"
        },
        "id": "a5HE95DMlstF",
        "outputId": "8e810840-b12c-4ac8-8523-7b3d6325146a"
      },
      "execution_count": null,
      "outputs": [
        {
          "output_type": "stream",
          "name": "stdout",
          "text": [
            "{1: 'python', 2: 'java', 3: 'c', 4: 'R', 5: 'PHP'}\n"
          ]
        }
      ]
    },
    {
      "cell_type": "code",
      "source": [
        "# create squares dictionary upto 5th element\n",
        "squares={1:1,2:4,3:9,4:16,5:25}\n",
        "#pop()-remove particular item (4)\n",
        "print(squares.pop(4))\n",
        "print(squares)\n",
        "print(squares.popitem())\n",
        "print(squares)\n",
        "squares.clear()\n",
        "print(squares)\n",
        "del squares\n",
        "print(squares)"
      ],
      "metadata": {
        "colab": {
          "base_uri": "https://localhost:8080/",
          "height": 263
        },
        "id": "R3M__9IymrMf",
        "outputId": "f95fd8c2-ab08-459a-97e4-079034c48199"
      },
      "execution_count": null,
      "outputs": [
        {
          "output_type": "stream",
          "name": "stdout",
          "text": [
            "16\n",
            "{1: 1, 2: 4, 3: 9, 5: 25}\n",
            "(5, 25)\n",
            "{1: 1, 2: 4, 3: 9}\n",
            "{}\n"
          ]
        },
        {
          "output_type": "error",
          "ename": "NameError",
          "evalue": "name 'squares' is not defined",
          "traceback": [
            "\u001b[0;31m---------------------------------------------------------------------------\u001b[0m",
            "\u001b[0;31mNameError\u001b[0m                                 Traceback (most recent call last)",
            "\u001b[0;32m<ipython-input-18-78e97c95f981>\u001b[0m in \u001b[0;36m<cell line: 11>\u001b[0;34m()\u001b[0m\n\u001b[1;32m      9\u001b[0m \u001b[0mprint\u001b[0m\u001b[0;34m(\u001b[0m\u001b[0msquares\u001b[0m\u001b[0;34m)\u001b[0m\u001b[0;34m\u001b[0m\u001b[0;34m\u001b[0m\u001b[0m\n\u001b[1;32m     10\u001b[0m \u001b[0;32mdel\u001b[0m \u001b[0msquares\u001b[0m\u001b[0;34m\u001b[0m\u001b[0;34m\u001b[0m\u001b[0m\n\u001b[0;32m---> 11\u001b[0;31m \u001b[0mprint\u001b[0m\u001b[0;34m(\u001b[0m\u001b[0msquares\u001b[0m\u001b[0;34m)\u001b[0m\u001b[0;34m\u001b[0m\u001b[0;34m\u001b[0m\u001b[0m\n\u001b[0m",
            "\u001b[0;31mNameError\u001b[0m: name 'squares' is not defined"
          ]
        }
      ]
    },
    {
      "cell_type": "code",
      "source": [
        "#methods\n",
        "#copy()\n",
        "dict1={1:'python',2:'java',3:'c'}\n",
        "dict2=dict1.copy()\n",
        "print(dict2)\n",
        "#item()-\n",
        "#print(dict1.item())-------------------------------------------------\n",
        "#keys()\n",
        "allkey=dict1.keys()\n",
        "print(allkey)\n",
        "#from keys\n",
        "seq=('python','java','c++')\n",
        "mydict=mydict.fromkeys(seq,50)\n",
        "print(mydict)"
      ],
      "metadata": {
        "colab": {
          "base_uri": "https://localhost:8080/"
        },
        "id": "FQKtME4Qn5cf",
        "outputId": "258640da-0ee6-4c67-bf28-a6bc26110bf9"
      },
      "execution_count": null,
      "outputs": [
        {
          "output_type": "stream",
          "name": "stdout",
          "text": [
            "{1: 'python', 2: 'java', 3: 'c'}\n",
            "dict_keys([1, 2, 3])\n",
            "{'python': 50, 'java': 50, 'c++': 50}\n"
          ]
        }
      ]
    },
    {
      "cell_type": "code",
      "source": [
        "#update()\n",
        "dict1={1:'python'}\n",
        "dict2={1:'pyhtons',2:'c'}\n",
        "print(dict2)"
      ],
      "metadata": {
        "colab": {
          "base_uri": "https://localhost:8080/"
        },
        "id": "It6L-1RLorM6",
        "outputId": "e3e84bef-6bb5-475f-d851-65bd5f239c40"
      },
      "execution_count": null,
      "outputs": [
        {
          "output_type": "stream",
          "name": "stdout",
          "text": [
            "{1: 'pyhtons', 2: 'c'}\n"
          ]
        }
      ]
    },
    {
      "cell_type": "code",
      "source": [],
      "metadata": {
        "id": "V-s1L3T3wzyi"
      },
      "execution_count": null,
      "outputs": []
    }
  ]
}