{
  "nbformat": 4,
  "nbformat_minor": 0,
  "metadata": {
    "colab": {
      "provenance": []
    },
    "kernelspec": {
      "name": "python3",
      "display_name": "Python 3"
    },
    "language_info": {
      "name": "python"
    }
  },
  "cells": [
    {
      "cell_type": "code",
      "execution_count": 5,
      "metadata": {
        "colab": {
          "base_uri": "https://localhost:8080/"
        },
        "id": "qB-MImYYnTlF",
        "outputId": "7f9dbfa5-5b28-495f-dd5c-58ce7a3a632b"
      },
      "outputs": [
        {
          "output_type": "stream",
          "name": "stdout",
          "text": [
            "1.26.4\n"
          ]
        }
      ],
      "source": [
        "# get version of any lib\n",
        "import numpy as np\n",
        "print(np.__version__)"
      ]
    },
    {
      "cell_type": "code",
      "source": [
        "# write a program to get help with add function in numpy\n",
        "import numpy as np\n",
        "print(np.info(np.add))"
      ],
      "metadata": {
        "colab": {
          "base_uri": "https://localhost:8080/"
        },
        "id": "k6DVHXVqo2Su",
        "outputId": "452fbe38-dc50-4b96-8538-3ed506d9e99d"
      },
      "execution_count": 6,
      "outputs": [
        {
          "output_type": "stream",
          "name": "stdout",
          "text": [
            "add(x1, x2, /, out=None, *, where=True, casting='same_kind', order='K', dtype=None, subok=True[, signature, extobj])\n",
            "\n",
            "Add arguments element-wise.\n",
            "\n",
            "Parameters\n",
            "----------\n",
            "x1, x2 : array_like\n",
            "    The arrays to be added.\n",
            "    If ``x1.shape != x2.shape``, they must be broadcastable to a common\n",
            "    shape (which becomes the shape of the output).\n",
            "out : ndarray, None, or tuple of ndarray and None, optional\n",
            "    A location into which the result is stored. If provided, it must have\n",
            "    a shape that the inputs broadcast to. If not provided or None,\n",
            "    a freshly-allocated array is returned. A tuple (possible only as a\n",
            "    keyword argument) must have length equal to the number of outputs.\n",
            "where : array_like, optional\n",
            "    This condition is broadcast over the input. At locations where the\n",
            "    condition is True, the `out` array will be set to the ufunc result.\n",
            "    Elsewhere, the `out` array will retain its original value.\n",
            "    Note that if an uninitialized `out` array is created via the default\n",
            "    ``out=None``, locations within it where the condition is False will\n",
            "    remain uninitialized.\n",
            "**kwargs\n",
            "    For other keyword-only arguments, see the\n",
            "    :ref:`ufunc docs <ufuncs.kwargs>`.\n",
            "\n",
            "Returns\n",
            "-------\n",
            "add : ndarray or scalar\n",
            "    The sum of `x1` and `x2`, element-wise.\n",
            "    This is a scalar if both `x1` and `x2` are scalars.\n",
            "\n",
            "Notes\n",
            "-----\n",
            "Equivalent to `x1` + `x2` in terms of array broadcasting.\n",
            "\n",
            "Examples\n",
            "--------\n",
            ">>> np.add(1.0, 4.0)\n",
            "5.0\n",
            ">>> x1 = np.arange(9.0).reshape((3, 3))\n",
            ">>> x2 = np.arange(3.0)\n",
            ">>> np.add(x1, x2)\n",
            "array([[  0.,   2.,   4.],\n",
            "       [  3.,   5.,   7.],\n",
            "       [  6.,   8.,  10.]])\n",
            "\n",
            "The ``+`` operator can be used as a shorthand for ``np.add`` on ndarrays.\n",
            "\n",
            ">>> x1 = np.arange(9.0).reshape((3, 3))\n",
            ">>> x2 = np.arange(3.0)\n",
            ">>> x1 + x2\n",
            "array([[ 0.,  2.,  4.],\n",
            "       [ 3.,  5.,  7.],\n",
            "       [ 6.,  8., 10.]])\n",
            "None\n"
          ]
        }
      ]
    },
    {
      "cell_type": "code",
      "source": [
        "#write a numpy program to test if any of the elements of a given array are non zero\n",
        "import numpy as np\n",
        "x = np.array([1, 2, 3, 4])\n",
        "print(\"Original array:\")\n",
        "print(x)\n",
        "print(np.any(x))"
      ],
      "metadata": {
        "colab": {
          "base_uri": "https://localhost:8080/"
        },
        "id": "9TA1JgJPpl_S",
        "outputId": "ae00752d-3bc2-480d-dfe8-8b83fc0192b5"
      },
      "execution_count": 9,
      "outputs": [
        {
          "output_type": "stream",
          "name": "stdout",
          "text": [
            "Original array:\n",
            "[1 2 3 4]\n",
            "True\n"
          ]
        }
      ]
    },
    {
      "cell_type": "code",
      "source": [
        "# Write a program to test element wise positive or negative infinity\n",
        "import numpy as np\n",
        "array = np.array([1,-2,np.inf,-np.inf,0,3.5])\n",
        "print(\"Original array:\")\n",
        "print(array)\n",
        "result_pos_inf = np.isposinf(array)\n",
        "result_neg_inf = np.isneginf(array)\n",
        "print('result_pos_inf is' , result_pos_inf)\n",
        "print('result_neg_inf is' , result_neg_inf)"
      ],
      "metadata": {
        "colab": {
          "base_uri": "https://localhost:8080/"
        },
        "id": "U-cRH2CNtMuW",
        "outputId": "8693b737-7d5f-4c5c-b090-2f72a369dfee"
      },
      "execution_count": 22,
      "outputs": [
        {
          "output_type": "stream",
          "name": "stdout",
          "text": [
            "Original array:\n",
            "[ 1.  -2.   inf -inf  0.   3.5]\n",
            "result_pos_inf is [False False  True False False False]\n",
            "result_neg_inf is [False False False  True False False]\n"
          ]
        }
      ]
    },
    {
      "cell_type": "code",
      "source": [
        "#write a pyton program to test element wise for NaN (Not a number of a given array)\n",
        "import numpy as np\n",
        "array = np.array([1, 0, np.nan, np.inf])\n",
        "print(\"Original array\")\n",
        "print(array)\n",
        "print(\"Test element-wise for NaN:\")\n",
        "print(np.isnan(array))"
      ],
      "metadata": {
        "colab": {
          "base_uri": "https://localhost:8080/"
        },
        "id": "mc3gcQlbuN_n",
        "outputId": "a29bd4e7-f5bc-4e2e-b569-971fd81bbf95"
      },
      "execution_count": 16,
      "outputs": [
        {
          "output_type": "stream",
          "name": "stdout",
          "text": [
            "Original array\n",
            "[ 1.  0. nan inf]\n",
            "Test element-wise for NaN:\n",
            "[False False  True False]\n"
          ]
        }
      ]
    },
    {
      "cell_type": "code",
      "source": [
        "# Write a python program to create an array of integers from 30 to 70\n",
        "import numpy as np\n",
        "array = np.arange(30,71)\n",
        "print(array)"
      ],
      "metadata": {
        "colab": {
          "base_uri": "https://localhost:8080/"
        },
        "id": "nr-6auJbvRhB",
        "outputId": "f06abf89-366f-4ce4-bc57-74356c35956b"
      },
      "execution_count": 19,
      "outputs": [
        {
          "output_type": "stream",
          "name": "stdout",
          "text": [
            "[30 31 32 33 34 35 36 37 38 39 40 41 42 43 44 45 46 47 48 49 50 51 52 53\n",
            " 54 55 56 57 58 59 60 61 62 63 64 65 66 67 68 69 70]\n"
          ]
        }
      ]
    },
    {
      "cell_type": "code",
      "source": [
        "# Write a python program to create an array of even integers from 30 to 70\n",
        "import numpy as np\n",
        "array = np.arange(30,71,2)\n",
        "print(array)"
      ],
      "metadata": {
        "colab": {
          "base_uri": "https://localhost:8080/"
        },
        "id": "TB5bzGhewF2x",
        "outputId": "1c0d6dcf-4096-4c4c-e8c0-16c33ffdb98d"
      },
      "execution_count": 20,
      "outputs": [
        {
          "output_type": "stream",
          "name": "stdout",
          "text": [
            "[30 32 34 36 38 40 42 44 46 48 50 52 54 56 58 60 62 64 66 68 70]\n"
          ]
        }
      ]
    },
    {
      "cell_type": "code",
      "source": [
        "#Write a python program to create 3*3 identity matrix\n",
        "import numpy as np\n",
        "array = np.identity(3)\n",
        "print(array)\n"
      ],
      "metadata": {
        "colab": {
          "base_uri": "https://localhost:8080/"
        },
        "id": "l7y87y9MwRS9",
        "outputId": "2960a9e5-55ac-40fd-a094-2aed29fb0776"
      },
      "execution_count": 21,
      "outputs": [
        {
          "output_type": "stream",
          "name": "stdout",
          "text": [
            "[[1. 0. 0.]\n",
            " [0. 1. 0.]\n",
            " [0. 0. 1.]]\n"
          ]
        }
      ]
    },
    {
      "cell_type": "code",
      "source": [
        "#Write a python program to perform addition , substraction , multiplication of two matrx\n",
        "import numpy as np\n",
        "array1 = np.array([1,3,5,7,5,4])\n",
        "array2 = np.array([8,5,9,5,5,6])\n",
        "add = np.add(array1,array2)\n",
        "print(add)\n",
        "sub = np.subtract(array1,array2)\n",
        "print(sub)\n",
        "mul = np.multiply(array1,array2)\n",
        "print(mul)\n"
      ],
      "metadata": {
        "colab": {
          "base_uri": "https://localhost:8080/"
        },
        "id": "31Z_o7Ebwzg9",
        "outputId": "a82bb3e0-016b-4aaf-ea69-a14bf8852289"
      },
      "execution_count": 25,
      "outputs": [
        {
          "output_type": "stream",
          "name": "stdout",
          "text": [
            "[ 9  8 14 12 10 10]\n",
            "[-7 -2 -4  2  0 -2]\n",
            "[ 8 15 45 35 25 24]\n"
          ]
        }
      ]
    },
    {
      "cell_type": "code",
      "source": [
        "#write a program to reverse 4*4 array\n",
        "import numpy as np\n",
        "array = np.arange(16).reshape(4, 4)\n",
        "print('original Array')\n",
        "print(array)\n",
        "print('reversed Array')\n",
        "print(array[::-1])"
      ],
      "metadata": {
        "colab": {
          "base_uri": "https://localhost:8080/"
        },
        "id": "-H_Plrd5zWQ3",
        "outputId": "47dc650c-ca1d-4f51-e013-86bd83dc51a1"
      },
      "execution_count": 42,
      "outputs": [
        {
          "output_type": "stream",
          "name": "stdout",
          "text": [
            "original Array\n",
            "[[ 0  1  2  3]\n",
            " [ 4  5  6  7]\n",
            " [ 8  9 10 11]\n",
            " [12 13 14 15]]\n",
            "reversed Array\n",
            "[[12 13 14 15]\n",
            " [ 8  9 10 11]\n",
            " [ 4  5  6  7]\n",
            " [ 0  1  2  3]]\n"
          ]
        }
      ]
    },
    {
      "cell_type": "code",
      "source": [
        "#Write a python program to transpose given 4*4 matrix\n",
        "import numpy as np\n",
        "array = np.arange(16).reshape(4, 4)\n",
        "print('original Array')\n",
        "print(array)\n",
        "print('Transposed Array')\n",
        "print(np.transpose(array))"
      ],
      "metadata": {
        "colab": {
          "base_uri": "https://localhost:8080/"
        },
        "id": "GeLKLzx62kxD",
        "outputId": "13e1d01e-5d26-47df-d1c6-0443cbd554fd"
      },
      "execution_count": 41,
      "outputs": [
        {
          "output_type": "stream",
          "name": "stdout",
          "text": [
            "original Array\n",
            "[[ 0  1  2  3]\n",
            " [ 4  5  6  7]\n",
            " [ 8  9 10 11]\n",
            " [12 13 14 15]]\n",
            "Transposed Array\n",
            "[[ 0  4  8 12]\n",
            " [ 1  5  9 13]\n",
            " [ 2  6 10 14]\n",
            " [ 3  7 11 15]]\n"
          ]
        }
      ]
    },
    {
      "cell_type": "code",
      "source": [
        "#Write a python program to create a new array from a given array from swapping first and last , second and third column\n",
        "import numpy as np\n",
        "array = np.arange(16).reshape(4, 4)\n",
        "print('original Array')\n",
        "print(array)\n",
        "array[:, [0, 3]] = array[:, [3, 0]]\n",
        "print('swapping first and last column')\n",
        "print(array)\n",
        "array[:, [1, 2]] = array[:, [2, 1]]\n",
        "print('swapping second and third column')\n",
        "print(array)"
      ],
      "metadata": {
        "colab": {
          "base_uri": "https://localhost:8080/"
        },
        "id": "dIub5E5b4PZI",
        "outputId": "852e2458-c480-418d-fcad-acc5b3254edf"
      },
      "execution_count": 46,
      "outputs": [
        {
          "output_type": "stream",
          "name": "stdout",
          "text": [
            "original Array\n",
            "[[ 0  1  2  3]\n",
            " [ 4  5  6  7]\n",
            " [ 8  9 10 11]\n",
            " [12 13 14 15]]\n",
            "swapping first and last column\n",
            "[[ 3  1  2  0]\n",
            " [ 7  5  6  4]\n",
            " [11  9 10  8]\n",
            " [15 13 14 12]]\n",
            "swapping second and third column\n",
            "[[ 3  2  1  0]\n",
            " [ 7  6  5  4]\n",
            " [11 10  9  8]\n",
            " [15 14 13 12]]\n"
          ]
        }
      ]
    }
  ]
}