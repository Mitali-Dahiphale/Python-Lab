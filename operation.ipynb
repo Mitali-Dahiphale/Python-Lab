{
  "nbformat": 4,
  "nbformat_minor": 0,
  "metadata": {
    "colab": {
      "provenance": []
    },
    "kernelspec": {
      "name": "python3",
      "display_name": "Python 3"
    },
    "language_info": {
      "name": "python"
    }
  },
  "cells": [
    {
      "cell_type": "code",
      "execution_count": null,
      "metadata": {
        "colab": {
          "base_uri": "https://localhost:8080/"
        },
        "id": "cWtoTtZV7Qga",
        "outputId": "8d832b28-a092-4ddf-cf32-20722769cee0"
      },
      "outputs": [
        {
          "output_type": "stream",
          "name": "stdout",
          "text": [
            "HELLO\n"
          ]
        }
      ],
      "source": [
        "print(\"HELLO\")"
      ]
    },
    {
      "cell_type": "code",
      "source": [
        "print(\"Arithmetic Operations:\")\n",
        "a=int(input(\"Enter a value for a: \"))\n",
        "b=int(input(\"Enter a value for b: \"))\n",
        "print(\"sum is \",a+b)\n",
        "print(\"Subtraction is\",a-b)\n",
        "print(\"Division is\",a/b)\n",
        "print(\"Modulus is\",a%b)\n",
        "print(\"Floor division is\",a//b)"
      ],
      "metadata": {
        "colab": {
          "base_uri": "https://localhost:8080/"
        },
        "id": "vE7lqgfz8AVm",
        "outputId": "4fc5e947-f402-4b43-f802-e5bc431d34b2"
      },
      "execution_count": null,
      "outputs": [
        {
          "output_type": "stream",
          "name": "stdout",
          "text": [
            "Arithmetic Operations:\n",
            "Enter a value for a: 5\n",
            "Enter a value for b: 8\n",
            "sum is  13\n",
            "Subtraction is -3\n",
            "Division is 0.625\n",
            "Modulus is 5\n",
            "Floor division is 0\n"
          ]
        }
      ]
    },
    {
      "cell_type": "code",
      "source": [
        "print(\"Concatnation Operation\")\n",
        "x=input(\"Enter a word: \")\n",
        "y=input(\"Enter another word: \")\n",
        "print(x+y)"
      ],
      "metadata": {
        "colab": {
          "base_uri": "https://localhost:8080/"
        },
        "id": "NjJvgsS49U0H",
        "outputId": "c2245bb1-a43b-4446-d5c3-d2386efc6e4a"
      },
      "execution_count": null,
      "outputs": [
        {
          "output_type": "stream",
          "name": "stdout",
          "text": [
            "Concatnation Operation\n",
            "Enter a word: Hello\n",
            "Enter another word:  World\n",
            "Hello World\n"
          ]
        }
      ]
    },
    {
      "cell_type": "code",
      "source": [
        "print(\"Comparison Operations:\")\n",
        "p=int(input(\"Enter a number :\"))\n",
        "q=int(input(\"Enter a number:\"))\n",
        "print(p==q)\n",
        "print(p!=q)\n",
        "print(p<q)\n",
        "print(p>q)\n",
        "print(p<=q)\n",
        "print(p>=q)"
      ],
      "metadata": {
        "colab": {
          "base_uri": "https://localhost:8080/"
        },
        "id": "DSmpK9N6-IpS",
        "outputId": "3b7e162a-db20-4d7e-8988-f80e48f75358"
      },
      "execution_count": null,
      "outputs": [
        {
          "output_type": "stream",
          "name": "stdout",
          "text": [
            "Comparison Operations:\n",
            "Enter a number :12\n",
            "Enter a number:23\n",
            "False\n",
            "True\n",
            "True\n",
            "False\n",
            "True\n",
            "False\n"
          ]
        }
      ]
    },
    {
      "cell_type": "code",
      "source": [],
      "metadata": {
        "id": "z3whTupZKNUW"
      },
      "execution_count": null,
      "outputs": []
    }
  ]
}