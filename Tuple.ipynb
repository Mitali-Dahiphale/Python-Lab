{
  "nbformat": 4,
  "nbformat_minor": 0,
  "metadata": {
    "colab": {
      "provenance": []
    },
    "kernelspec": {
      "name": "python3",
      "display_name": "Python 3"
    },
    "language_info": {
      "name": "python"
    }
  },
  "cells": [
    {
      "cell_type": "code",
      "execution_count": null,
      "metadata": {
        "colab": {
          "base_uri": "https://localhost:8080/"
        },
        "id": "noJWQg0WMYys",
        "outputId": "7c182639-e47c-4790-9315-f4cf00fb85d2"
      },
      "outputs": [
        {
          "output_type": "stream",
          "name": "stdout",
          "text": [
            "('apple', 'banana', 'cherry')\n"
          ]
        }
      ],
      "source": [
        "#Examples of tuples\n",
        "mytuple=(\"apple\",\"banana\",\"cherry\")\n",
        "print(mytuple)"
      ]
    },
    {
      "cell_type": "code",
      "source": [
        "#tuple length\n",
        "mytuple=(\"apple\",\"banana\",\"cherry\")\n",
        "print(len(mytuple))"
      ],
      "metadata": {
        "colab": {
          "base_uri": "https://localhost:8080/"
        },
        "id": "ZU2M9NpNOBKI",
        "outputId": "4ffb9982-86af-46a4-beb1-0fe5b6daaec0"
      },
      "execution_count": null,
      "outputs": [
        {
          "output_type": "stream",
          "name": "stdout",
          "text": [
            "3\n"
          ]
        }
      ]
    },
    {
      "cell_type": "code",
      "source": [
        "#tuple with one item-add comma after item otherwise python will not recpgnize it as  tuple\n",
        "mytuple=(\"apple\",)\n",
        "print(mytuple)\n",
        "thistuple=(\"apple\")   #not tuple\n",
        "print(thistuple)"
      ],
      "metadata": {
        "colab": {
          "base_uri": "https://localhost:8080/"
        },
        "id": "r22jqa0oOal7",
        "outputId": "0bc5b700-ff8d-4d44-ec74-a78e16f9f260"
      },
      "execution_count": null,
      "outputs": [
        {
          "output_type": "stream",
          "name": "stdout",
          "text": [
            "('apple',)\n",
            "apple\n"
          ]
        }
      ]
    },
    {
      "cell_type": "code",
      "source": [
        "# a tuple can contain different data types\n",
        "tuple1=(\"dog\",23,True,\"abs\")\n",
        "print(tuple1)"
      ],
      "metadata": {
        "colab": {
          "base_uri": "https://localhost:8080/"
        },
        "id": "Suf48IxGO5cj",
        "outputId": "3897b074-1ecf-49c8-c784-0727bdf3c95d"
      },
      "execution_count": null,
      "outputs": [
        {
          "output_type": "stream",
          "name": "stdout",
          "text": [
            "('dog', 23, True, 'abs')\n"
          ]
        }
      ]
    },
    {
      "cell_type": "code",
      "source": [
        "#type\n",
        "tuple2=(\"apple\",\"cherry\")\n",
        "print(type(tuple2))"
      ],
      "metadata": {
        "colab": {
          "base_uri": "https://localhost:8080/"
        },
        "id": "gLW5KznmQEhQ",
        "outputId": "b897a18a-9aa7-4651-eab9-805179105801"
      },
      "execution_count": null,
      "outputs": [
        {
          "output_type": "stream",
          "name": "stdout",
          "text": [
            "<class 'tuple'>\n"
          ]
        }
      ]
    },
    {
      "cell_type": "code",
      "source": [
        "#Access tuple item\n",
        "mytuple=(\"apple\",\"banana\",\"cherry\",\"orange\",\"kiwi\")\n",
        "print(mytuple[0])\n",
        "print(mytuple[-1])   # negative indexing\n",
        "print(mytuple[2:5])  # range of indexes\n",
        "print(mytuple[:4])\n",
        "print(mytuple[2:])\n",
        "print(mytuple[-4:-1])"
      ],
      "metadata": {
        "colab": {
          "base_uri": "https://localhost:8080/"
        },
        "id": "1LY1_5MdQZcq",
        "outputId": "c9f6e618-0697-4425-aea9-9001ba30ee52"
      },
      "execution_count": null,
      "outputs": [
        {
          "output_type": "stream",
          "name": "stdout",
          "text": [
            "apple\n",
            "kiwi\n",
            "('cherry', 'orange', 'kiwi')\n",
            "('apple', 'banana', 'cherry', 'orange')\n",
            "('cherry', 'orange', 'kiwi')\n",
            "('banana', 'cherry', 'orange')\n"
          ]
        }
      ]
    },
    {
      "cell_type": "code",
      "source": [
        "tuple1=(\"a\",\"b\")\n",
        "tuple2=(1,2)\n",
        "tuple3=tuple1+tuple2    # add tuples\n",
        "print(tuple3)\n",
        "mytuple=tuple1*2   # multiply tuples\n",
        "print(mytuple)"
      ],
      "metadata": {
        "colab": {
          "base_uri": "https://localhost:8080/"
        },
        "id": "0QGFOM-cTp6F",
        "outputId": "efe8c4ad-99f1-4e8a-e990-d8e68d3abca5"
      },
      "execution_count": null,
      "outputs": [
        {
          "output_type": "stream",
          "name": "stdout",
          "text": [
            "('a', 'b', 1, 2)\n",
            "('a', 'b', 'a', 'b')\n"
          ]
        }
      ]
    },
    {
      "cell_type": "code",
      "source": [
        "# Tuple-methods\n",
        "tup=(1,2,3,4,5,6,7,7)\n",
        "print(tup.index(3))\n",
        "x=tup.count(7)\n",
        "print(x)"
      ],
      "metadata": {
        "colab": {
          "base_uri": "https://localhost:8080/"
        },
        "id": "XuCOLqCpb21W",
        "outputId": "a34400c4-13bf-4064-966c-f9f439321d3a"
      },
      "execution_count": null,
      "outputs": [
        {
          "output_type": "stream",
          "name": "stdout",
          "text": [
            "2\n",
            "2\n"
          ]
        }
      ]
    },
    {
      "cell_type": "code",
      "source": [
        "tup=(6,5,4,3)\n",
        "print(sorted(tup))"
      ],
      "metadata": {
        "colab": {
          "base_uri": "https://localhost:8080/"
        },
        "id": "Mp363Vf5dVPV",
        "outputId": "9ddc070f-90fc-435e-c314-c461505db374"
      },
      "execution_count": null,
      "outputs": [
        {
          "output_type": "stream",
          "name": "stdout",
          "text": [
            "[3, 4, 5, 6]\n"
          ]
        }
      ]
    },
    {
      "cell_type": "code",
      "source": [
        "tup=(1,2,3,4,5)\n",
        "print(6 in tup)"
      ],
      "metadata": {
        "colab": {
          "base_uri": "https://localhost:8080/"
        },
        "id": "DzquPILEdv0e",
        "outputId": "42801902-0972-41aa-840a-6dc4246e5a32"
      },
      "execution_count": null,
      "outputs": [
        {
          "output_type": "stream",
          "name": "stdout",
          "text": [
            "False\n"
          ]
        }
      ]
    },
    {
      "cell_type": "code",
      "source": [
        "tup=(1,2,3,4,5)\n",
        "print(max(tup))\n",
        "print(min(tup))"
      ],
      "metadata": {
        "colab": {
          "base_uri": "https://localhost:8080/"
        },
        "id": "tp4OIT1Fd5rx",
        "outputId": "5c6f2537-551e-4e0b-f864-05bbe0fc2a70"
      },
      "execution_count": null,
      "outputs": [
        {
          "output_type": "stream",
          "name": "stdout",
          "text": [
            "5\n",
            "1\n"
          ]
        }
      ]
    },
    {
      "cell_type": "code",
      "source": [
        "#zip..not any method ...a random program of zip\n",
        "tu=(1,2,3)\n",
        "l1=['a','b','c']\n",
        "x=zip(tu,l1)\n",
        "print(x)\n",
        "print(list(x))"
      ],
      "metadata": {
        "colab": {
          "base_uri": "https://localhost:8080/"
        },
        "id": "CzJTQb5oeE9K",
        "outputId": "b66c28d3-797d-49e5-8a6a-e879da541570"
      },
      "execution_count": null,
      "outputs": [
        {
          "output_type": "stream",
          "name": "stdout",
          "text": [
            "<zip object at 0x7cd3a297f080>\n",
            "[(1, 'a'), (2, 'b'), (3, 'c')]\n"
          ]
        }
      ]
    },
    {
      "cell_type": "code",
      "source": [],
      "metadata": {
        "id": "OMUP2KnPerix"
      },
      "execution_count": null,
      "outputs": []
    }
  ]
}