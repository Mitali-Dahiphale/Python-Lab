{
  "nbformat": 4,
  "nbformat_minor": 0,
  "metadata": {
    "colab": {
      "provenance": []
    },
    "kernelspec": {
      "name": "python3",
      "display_name": "Python 3"
    },
    "language_info": {
      "name": "python"
    }
  },
  "cells": [
    {
      "cell_type": "code",
      "execution_count": 3,
      "metadata": {
        "id": "HsRVYlCvnNDI",
        "colab": {
          "base_uri": "https://localhost:8080/"
        },
        "outputId": "3d5a6336-4145-42b4-8669-73e252c48b69"
      },
      "outputs": [
        {
          "output_type": "stream",
          "name": "stdout",
          "text": [
            "{'banana', 'apple', 'cherry'}\n"
          ]
        }
      ],
      "source": [
        "#Examples of set\n",
        "friuts={\"apple\",\"banana\",\"cherry\"} #add()\n",
        "print(friuts)"
      ]
    },
    {
      "cell_type": "code",
      "source": [
        "fruits={\"apple\",\"banana\",\"cherry\"}\n",
        "fruits.add(\"orange\")\n",
        "print(fruits)"
      ],
      "metadata": {
        "colab": {
          "base_uri": "https://localhost:8080/"
        },
        "id": "Gl9Zrvg2IxOj",
        "outputId": "7e303d0d-7d69-4dfd-db8d-d0bd822a752b"
      },
      "execution_count": 6,
      "outputs": [
        {
          "output_type": "stream",
          "name": "stdout",
          "text": [
            "{'banana', 'orange', 'apple', 'cherry'}\n"
          ]
        }
      ]
    },
    {
      "cell_type": "code",
      "source": [
        "#clear()\n",
        "fruits={\"apple\",\"banana\",\"cherry\"}\n",
        "fruits.clear()\n",
        "print(fruits)"
      ],
      "metadata": {
        "colab": {
          "base_uri": "https://localhost:8080/"
        },
        "id": "DkJk2ETxJYl5",
        "outputId": "94c9a2e1-330d-4330-9210-f5ca51f55713"
      },
      "execution_count": 9,
      "outputs": [
        {
          "output_type": "stream",
          "name": "stdout",
          "text": [
            "set()\n"
          ]
        }
      ]
    },
    {
      "cell_type": "code",
      "source": [
        "#copy()\n",
        "fruits={\"apple\",\"banana\",\"cherry\"}\n",
        "fruits.copy()\n",
        "print(fruits)"
      ],
      "metadata": {
        "colab": {
          "base_uri": "https://localhost:8080/"
        },
        "id": "BDay_dFpJuYv",
        "outputId": "58c242ec-be33-4479-c597-9d12799c8af7"
      },
      "execution_count": 10,
      "outputs": [
        {
          "output_type": "stream",
          "name": "stdout",
          "text": [
            "{'banana', 'apple', 'cherry'}\n"
          ]
        }
      ]
    },
    {
      "cell_type": "code",
      "source": [
        "#difference()\n",
        "x={\"apple\",\"banana\",\"cherry\"}\n",
        "y={\"google\",\"microsoft\",\"apple\"}\n",
        "z=x.difference(y)\n",
        "print(z)\n",
        "c=x-y\n",
        "print(c)"
      ],
      "metadata": {
        "colab": {
          "base_uri": "https://localhost:8080/"
        },
        "id": "c3ZN_On_KRAc",
        "outputId": "898ac440-da1f-40d8-aec2-e99cbbdf5330"
      },
      "execution_count": 14,
      "outputs": [
        {
          "output_type": "stream",
          "name": "stdout",
          "text": [
            "{'banana', 'cherry'}\n",
            "{'banana', 'cherry'}\n"
          ]
        }
      ]
    },
    {
      "cell_type": "code",
      "source": [
        "#difference_update()\n",
        "x={\"apple\",\"banana\",\"cherry\"}\n",
        "y={\"google\",\"microsoft\",\"apple\"}\n",
        "x=x-y\n",
        "print(y)\n",
        "\n"
      ],
      "metadata": {
        "colab": {
          "base_uri": "https://localhost:8080/"
        },
        "id": "kzD13Bu3KvjQ",
        "outputId": "74d131e2-a97c-4287-a085-4c7e6a094d50"
      },
      "execution_count": 15,
      "outputs": [
        {
          "output_type": "stream",
          "name": "stdout",
          "text": [
            "{'microsoft', 'apple', 'google'}\n"
          ]
        }
      ]
    },
    {
      "cell_type": "code",
      "source": [
        "#discard()-remove specified item\n",
        "x={\"apple\",\"banana\",\"cherry\"}\n",
        "x.discard(\"apple\")\n",
        "print(x)"
      ],
      "metadata": {
        "colab": {
          "base_uri": "https://localhost:8080/"
        },
        "id": "OXO3qgZpL6Tv",
        "outputId": "493ae2dc-4bb2-4da6-9113-4f2c79006c8e"
      },
      "execution_count": 16,
      "outputs": [
        {
          "output_type": "stream",
          "name": "stdout",
          "text": [
            "{'banana', 'cherry'}\n"
          ]
        }
      ]
    },
    {
      "cell_type": "code",
      "source": [
        "#intersection()\n",
        "x={1,2,3}\n",
        "y={3,4,5}\n",
        "z=x.intersection(y)\n",
        "print(z)\n"
      ],
      "metadata": {
        "colab": {
          "base_uri": "https://localhost:8080/"
        },
        "id": "km0Ceh7ZMR9G",
        "outputId": "a6097d22-ffb1-42ac-9351-7b685b904125"
      },
      "execution_count": 17,
      "outputs": [
        {
          "output_type": "stream",
          "name": "stdout",
          "text": [
            "{3}\n"
          ]
        }
      ]
    },
    {
      "cell_type": "code",
      "source": [
        "#intersection_update()\n",
        "x={1,2,3}\n",
        "y={3,4,5}\n",
        "x.intersection_update(y)\n",
        "print(x)"
      ],
      "metadata": {
        "colab": {
          "base_uri": "https://localhost:8080/"
        },
        "id": "n35H1BGJNsj5",
        "outputId": "98e19c9f-b44e-45ff-b33c-6ef4da3f5b04"
      },
      "execution_count": 21,
      "outputs": [
        {
          "output_type": "stream",
          "name": "stdout",
          "text": [
            "{3}\n"
          ]
        }
      ]
    },
    {
      "cell_type": "code",
      "source": [
        "#is disjoint()\n",
        "x={\"apple\",\"banana\",\"cherry\"}\n",
        "y={\"apple\",\"microsoft\",\"facebook\"}\n",
        "z=x.isdisjoint(y)\n",
        "print(z)"
      ],
      "metadata": {
        "colab": {
          "base_uri": "https://localhost:8080/"
        },
        "id": "hIOOFlSBN_eI",
        "outputId": "a2e1a557-bf2e-4749-f194-5132c3541b58"
      },
      "execution_count": 22,
      "outputs": [
        {
          "output_type": "stream",
          "name": "stdout",
          "text": [
            "False\n"
          ]
        }
      ]
    },
    {
      "cell_type": "code",
      "source": [
        "#issubset()\n",
        "x={\"a\",\"b\",\"c\"}\n",
        "y={\"f\",\"e\",\"d\",\"c\",\"b\",\"a\"}\n",
        "z=x.issubset(y)\n",
        "print(z)"
      ],
      "metadata": {
        "colab": {
          "base_uri": "https://localhost:8080/"
        },
        "id": "1kts8L2yO2il",
        "outputId": "231b6bbb-e6c9-4da4-835e-baf2d22dce05"
      },
      "execution_count": 23,
      "outputs": [
        {
          "output_type": "stream",
          "name": "stdout",
          "text": [
            "True\n"
          ]
        }
      ]
    },
    {
      "cell_type": "code",
      "source": [
        "#issuperset()\n",
        "x={\"f\",\"e\",\"d\",\"c\",\"b\",\"a\"}\n",
        "y={\"a\",\"b\",\"c\"}\n",
        "z=x.issuperset(y)\n",
        "print(z)"
      ],
      "metadata": {
        "colab": {
          "base_uri": "https://localhost:8080/"
        },
        "id": "l7qJeQN8Ucmd",
        "outputId": "81adc1dd-a72b-40a6-9bce-13758d8a093a"
      },
      "execution_count": 24,
      "outputs": [
        {
          "output_type": "stream",
          "name": "stdout",
          "text": [
            "True\n"
          ]
        }
      ]
    },
    {
      "cell_type": "code",
      "source": [
        "#pop\n",
        "x={\"apple\",\"banana\",\"cherry\"}\n",
        "y={\"apple\",\"microsoft\",\"facebook\"}\n",
        "x.pop()\n",
        "print(x)\n",
        "#remove\n",
        "x={\"apple\",\"banana\",\"cherry\"}\n",
        "x.remove(\"banana\")\n",
        "print(x)"
      ],
      "metadata": {
        "colab": {
          "base_uri": "https://localhost:8080/"
        },
        "id": "SarPjHdRUwXa",
        "outputId": "8520ef1c-c9a6-48a0-e928-45993073caae"
      },
      "execution_count": 27,
      "outputs": [
        {
          "output_type": "stream",
          "name": "stdout",
          "text": [
            "{'apple', 'cherry'}\n",
            "{'apple', 'cherry'}\n"
          ]
        }
      ]
    },
    {
      "cell_type": "code",
      "source": [
        "#symmetric_difference()\n",
        "x={\"apple\",\"banana\",\"cherry\"}\n",
        "y={\"apple\",\"microsoft\",\"facebook\"}\n",
        "z=x.symmetric_difference(y)\n",
        "print(z)\n"
      ],
      "metadata": {
        "colab": {
          "base_uri": "https://localhost:8080/"
        },
        "id": "beFzUUl4VI1a",
        "outputId": "3cc6467f-1d8b-4349-86a2-22f9405fab48"
      },
      "execution_count": 29,
      "outputs": [
        {
          "output_type": "stream",
          "name": "stdout",
          "text": [
            "{'microsoft', 'facebook', 'banana', 'cherry'}\n"
          ]
        }
      ]
    },
    {
      "cell_type": "code",
      "source": [
        "#union\n",
        "x={\"apple\",\"banana\",\"cherry\"}\n",
        "y={\"apple\",\"microsoft\",\"facebook\"}\n",
        "z=x.union(y)\n",
        "print(z)\n"
      ],
      "metadata": {
        "colab": {
          "base_uri": "https://localhost:8080/"
        },
        "id": "MBmNF5ccV6n9",
        "outputId": "6a4d9a68-4204-4265-868c-aa04397be135"
      },
      "execution_count": 30,
      "outputs": [
        {
          "output_type": "stream",
          "name": "stdout",
          "text": [
            "{'microsoft', 'facebook', 'banana', 'apple', 'cherry'}\n"
          ]
        }
      ]
    },
    {
      "cell_type": "code",
      "source": [
        "#update()\n",
        "x={\"apple\",\"banana\",\"cherry\"}\n",
        "y={\"apple\",\"microsoft\",\"facebook\"}\n",
        "x.update(y)\n",
        "print(x)\n"
      ],
      "metadata": {
        "colab": {
          "base_uri": "https://localhost:8080/"
        },
        "id": "YWGZxvkMWMDu",
        "outputId": "26eeb9c6-7bcf-46e5-ee7b-60222289a530"
      },
      "execution_count": 31,
      "outputs": [
        {
          "output_type": "stream",
          "name": "stdout",
          "text": [
            "{'microsoft', 'facebook', 'banana', 'apple', 'cherry'}\n"
          ]
        }
      ]
    },
    {
      "cell_type": "code",
      "source": [],
      "metadata": {
        "id": "uA-6h8wAWXpe"
      },
      "execution_count": null,
      "outputs": []
    }
  ]
}