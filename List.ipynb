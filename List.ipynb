{
  "nbformat": 4,
  "nbformat_minor": 0,
  "metadata": {
    "colab": {
      "provenance": []
    },
    "kernelspec": {
      "name": "python3",
      "display_name": "Python 3"
    },
    "language_info": {
      "name": "python"
    }
  },
  "cells": [
    {
      "cell_type": "code",
      "execution_count": null,
      "metadata": {
        "id": "WFrvCb3EIGr-"
      },
      "outputs": [],
      "source": [
        "# Examples of lists"
      ]
    },
    {
      "cell_type": "code",
      "source": [
        "#print number of items in list:\n",
        "lst=[\"apple\",\"banana\",\"cherry\"]\n",
        "print(len(lst))"
      ],
      "metadata": {
        "colab": {
          "base_uri": "https://localhost:8080/"
        },
        "id": "ox_9ZajWIm9_",
        "outputId": "f4c6488f-d88a-4546-f5ef-6c6bca59873c"
      },
      "execution_count": null,
      "outputs": [
        {
          "output_type": "stream",
          "name": "stdout",
          "text": [
            "3\n"
          ]
        }
      ]
    },
    {
      "cell_type": "code",
      "source": [
        "#list items can be of any datatype:\n",
        "list1=[\"apple\",\"cherry\"]\n",
        "list2=[1,2,3,4,5]\n",
        "list3=['true','false','false']\n",
        "list4=[1,'apple','m','true']\n",
        "print(list1)\n",
        "print(list2)\n",
        "print(list3)\n",
        "print(list4)"
      ],
      "metadata": {
        "colab": {
          "base_uri": "https://localhost:8080/"
        },
        "id": "w6hJNN7fI9-V",
        "outputId": "24ed5f14-067a-477a-83fe-22af650d4c9a"
      },
      "execution_count": null,
      "outputs": [
        {
          "output_type": "stream",
          "name": "stdout",
          "text": [
            "['apple', 'cherry']\n",
            "[1, 2, 3, 4, 5]\n",
            "['true', 'false', 'false']\n",
            "[1, 'apple', 'm', 'true']\n"
          ]
        }
      ]
    },
    {
      "cell_type": "code",
      "source": [
        "#type()\n",
        "list5=[\"apple\",\"banana\",\"cherry\"]\n",
        "print(type(list5))"
      ],
      "metadata": {
        "colab": {
          "base_uri": "https://localhost:8080/"
        },
        "id": "RcX9pgXzJ8nq",
        "outputId": "3c6e74fb-9e54-46cf-c271-c006f90c0d05"
      },
      "execution_count": null,
      "outputs": [
        {
          "output_type": "stream",
          "name": "stdout",
          "text": [
            "<class 'list'>\n"
          ]
        }
      ]
    },
    {
      "cell_type": "code",
      "source": [
        "#Python-Access List Items\n",
        "#access items\n",
        "list6=[\"apple\",\"cherry\",\"banana\",\"mango\",\"kiwi\",\"melon\",\"orange\"]\n",
        "print(list6[1])\n",
        "#negative indexing\n",
        "print(list6[-1])\n",
        "# Range of indexes\n",
        "print(list6[2:5])\n",
        "print(list6[:4])\n",
        "print(list6[2:])\n",
        "print(list6[-4:-1])\n"
      ],
      "metadata": {
        "colab": {
          "base_uri": "https://localhost:8080/"
        },
        "id": "mFZMKSeeJqGt",
        "outputId": "2fc45a05-4aae-4f36-e508-f1c0f2d8b0b0"
      },
      "execution_count": null,
      "outputs": [
        {
          "output_type": "stream",
          "name": "stdout",
          "text": [
            "cherry\n",
            "orange\n",
            "['banana', 'mango', 'kiwi']\n",
            "['apple', 'cherry', 'banana', 'mango']\n",
            "['banana', 'mango', 'kiwi', 'melon', 'orange']\n",
            "['mango', 'kiwi', 'melon']\n"
          ]
        }
      ]
    },
    {
      "cell_type": "code",
      "source": [
        "#updating values in list\n",
        "num_list=[1,2,3,4,5,6,7,8,9,10]\n",
        "print(num_list)\n",
        "num_list[5]=100\n",
        "print(num_list)\n",
        "num_list.append(200)\n",
        "print(num_list)\n",
        "del num_list[3]\n",
        "print(num_list)\n",
        "del num_list[2:4]\n",
        "print(num_list)\n",
        "del num_list[:]\n",
        "print(num_list)\n",
        "del num_list\n",
        "print(num_list)"
      ],
      "metadata": {
        "colab": {
          "base_uri": "https://localhost:8080/",
          "height": 280
        },
        "id": "QVoAcwVIKrrz",
        "outputId": "9833b621-32da-4e38-c6b9-ff8aee5ef557"
      },
      "execution_count": null,
      "outputs": [
        {
          "output_type": "stream",
          "name": "stdout",
          "text": [
            "[1, 2, 3, 4, 5, 6, 7, 8, 9, 10]\n",
            "[1, 2, 3, 4, 5, 100, 7, 8, 9, 10]\n",
            "[1, 2, 3, 4, 5, 100, 7, 8, 9, 10, 200]\n",
            "[1, 2, 3, 5, 100, 7, 8, 9, 10, 200]\n",
            "[1, 2, 100, 7, 8, 9, 10, 200]\n",
            "[]\n"
          ]
        },
        {
          "output_type": "error",
          "ename": "NameError",
          "evalue": "name 'num_list' is not defined",
          "traceback": [
            "\u001b[0;31m---------------------------------------------------------------------------\u001b[0m",
            "\u001b[0;31mNameError\u001b[0m                                 Traceback (most recent call last)",
            "\u001b[0;32m<ipython-input-17-4496c98686d0>\u001b[0m in \u001b[0;36m<cell line: 15>\u001b[0;34m()\u001b[0m\n\u001b[1;32m     13\u001b[0m \u001b[0mprint\u001b[0m\u001b[0;34m(\u001b[0m\u001b[0mnum_list\u001b[0m\u001b[0;34m)\u001b[0m\u001b[0;34m\u001b[0m\u001b[0;34m\u001b[0m\u001b[0m\n\u001b[1;32m     14\u001b[0m \u001b[0;32mdel\u001b[0m \u001b[0mnum_list\u001b[0m\u001b[0;34m\u001b[0m\u001b[0;34m\u001b[0m\u001b[0m\n\u001b[0;32m---> 15\u001b[0;31m \u001b[0mprint\u001b[0m\u001b[0;34m(\u001b[0m\u001b[0mnum_list\u001b[0m\u001b[0;34m)\u001b[0m\u001b[0;34m\u001b[0m\u001b[0;34m\u001b[0m\u001b[0m\n\u001b[0m",
            "\u001b[0;31mNameError\u001b[0m: name 'num_list' is not defined"
          ]
        }
      ]
    },
    {
      "cell_type": "code",
      "source": [
        "#Cloning list\n",
        "list7=[1,2,3,4,5,6,7,8,9,10]\n",
        "list8=list7\n",
        "print(list8)"
      ],
      "metadata": {
        "colab": {
          "base_uri": "https://localhost:8080/"
        },
        "id": "csEEzpHGM_kF",
        "outputId": "1978e667-3350-4672-f02d-5a08c317c9ae"
      },
      "execution_count": null,
      "outputs": [
        {
          "output_type": "stream",
          "name": "stdout",
          "text": [
            "[1, 2, 3, 4, 5, 6, 7, 8, 9, 10]\n"
          ]
        }
      ]
    },
    {
      "cell_type": "code",
      "source": [
        "#basic list operation\n",
        "#len\n",
        "list1=[1,2,3,4,5]\n",
        "print(len(list1))\n",
        "\n",
        "#concatenation\n",
        "list2=[1,2,3,4]\n",
        "list3=[5,6,7,8]\n",
        "list4=list3+list2\n",
        "print(list4)"
      ],
      "metadata": {
        "colab": {
          "base_uri": "https://localhost:8080/"
        },
        "id": "Th-mLK95OYzF",
        "outputId": "c24535c3-2775-4bb6-d76a-84553cd16461"
      },
      "execution_count": null,
      "outputs": [
        {
          "output_type": "stream",
          "name": "stdout",
          "text": [
            "5\n",
            "[5, 6, 7, 8, 1, 2, 3, 4]\n"
          ]
        }
      ]
    },
    {
      "cell_type": "code",
      "source": [
        "#methods\n",
        "#append()-add new element\n",
        "lst=[]\n",
        "lst.append(1)\n",
        "lst.append(2)\n",
        "print(lst)"
      ],
      "metadata": {
        "colab": {
          "base_uri": "https://localhost:8080/"
        },
        "id": "5ifTazUMOlNm",
        "outputId": "9200aa32-c0d2-4fba-d8fe-cda793d68446"
      },
      "execution_count": null,
      "outputs": [
        {
          "output_type": "stream",
          "name": "stdout",
          "text": [
            "[1, 2]\n"
          ]
        }
      ]
    },
    {
      "cell_type": "code",
      "source": [
        "#clear()-removes all element\n",
        "lst=[1,2,3,4,5]\n",
        "lst.clear()\n",
        "print(lst)\n",
        "print(lst.clear())"
      ],
      "metadata": {
        "colab": {
          "base_uri": "https://localhost:8080/"
        },
        "id": "FP9L0VjWQO5g",
        "outputId": "1827f0d7-14aa-4deb-e787-d1c00452f6ee"
      },
      "execution_count": null,
      "outputs": [
        {
          "output_type": "stream",
          "name": "stdout",
          "text": [
            "[]\n",
            "None\n"
          ]
        }
      ]
    },
    {
      "cell_type": "code",
      "source": [
        "#copy()-return copy of list\n",
        "lst=[1,2,3]\n",
        "lst.copy()\n",
        "print(lst)\n",
        "print(lst.copy())"
      ],
      "metadata": {
        "colab": {
          "base_uri": "https://localhost:8080/"
        },
        "id": "HrLSbvE-QqXx",
        "outputId": "f19ffa4c-fa77-449a-f31d-9a497da85cf4"
      },
      "execution_count": null,
      "outputs": [
        {
          "output_type": "stream",
          "name": "stdout",
          "text": [
            "[1, 2, 3]\n",
            "[1, 2, 3]\n"
          ]
        }
      ]
    },
    {
      "cell_type": "code",
      "source": [
        "#count()-counts number of occurances of element\n",
        "lst=[1,2,3,2,5,3]\n",
        "x=lst.count(2)\n",
        "print(x)\n"
      ],
      "metadata": {
        "colab": {
          "base_uri": "https://localhost:8080/"
        },
        "id": "tCn9U1zpRCt_",
        "outputId": "4d22125e-9a3f-459a-aa7a-294ea1a392f9"
      },
      "execution_count": null,
      "outputs": [
        {
          "output_type": "stream",
          "name": "stdout",
          "text": [
            "2\n"
          ]
        }
      ]
    },
    {
      "cell_type": "code",
      "source": [
        "#extend()-adds all elements of an iterable to list\n",
        "lst=[1,2,3]"
      ],
      "metadata": {
        "id": "Co_wSTJqRyxM"
      },
      "execution_count": null,
      "outputs": []
    },
    {
      "cell_type": "code",
      "source": [
        "#Index(x)-returns position of first occurance of value x\n",
        "lst=[\"Alice\",\"23\",\"Dog\",\"9\"]\n",
        "print(lst)\n",
        "print(lst.index(\"Alice\"))\n",
        "print(lst.index(\"23\",\"9\"))"
      ],
      "metadata": {
        "colab": {
          "base_uri": "https://localhost:8080/",
          "height": 211
        },
        "id": "uvCLNmqrJO_v",
        "outputId": "aa25328f-b9df-48d9-e437-296d4b126c78"
      },
      "execution_count": null,
      "outputs": [
        {
          "output_type": "stream",
          "name": "stdout",
          "text": [
            "['Alice', '23', 'Dog', '9']\n",
            "0\n"
          ]
        },
        {
          "output_type": "error",
          "ename": "TypeError",
          "evalue": "slice indices must be integers or have an __index__ method",
          "traceback": [
            "\u001b[0;31m---------------------------------------------------------------------------\u001b[0m",
            "\u001b[0;31mTypeError\u001b[0m                                 Traceback (most recent call last)",
            "\u001b[0;32m<ipython-input-3-a2bcbaa35d4b>\u001b[0m in \u001b[0;36m<cell line: 5>\u001b[0;34m()\u001b[0m\n\u001b[1;32m      3\u001b[0m \u001b[0mprint\u001b[0m\u001b[0;34m(\u001b[0m\u001b[0mlst\u001b[0m\u001b[0;34m)\u001b[0m\u001b[0;34m\u001b[0m\u001b[0;34m\u001b[0m\u001b[0m\n\u001b[1;32m      4\u001b[0m \u001b[0mprint\u001b[0m\u001b[0;34m(\u001b[0m\u001b[0mlst\u001b[0m\u001b[0;34m.\u001b[0m\u001b[0mindex\u001b[0m\u001b[0;34m(\u001b[0m\u001b[0;34m\"Alice\"\u001b[0m\u001b[0;34m)\u001b[0m\u001b[0;34m)\u001b[0m\u001b[0;34m\u001b[0m\u001b[0;34m\u001b[0m\u001b[0m\n\u001b[0;32m----> 5\u001b[0;31m \u001b[0mprint\u001b[0m\u001b[0;34m(\u001b[0m\u001b[0mlst\u001b[0m\u001b[0;34m.\u001b[0m\u001b[0mindex\u001b[0m\u001b[0;34m(\u001b[0m\u001b[0;34m\"23\"\u001b[0m\u001b[0;34m,\u001b[0m\u001b[0;34m\"9\"\u001b[0m\u001b[0;34m)\u001b[0m\u001b[0;34m)\u001b[0m\u001b[0;34m\u001b[0m\u001b[0;34m\u001b[0m\u001b[0m\n\u001b[0m",
            "\u001b[0;31mTypeError\u001b[0m: slice indices must be integers or have an __index__ method"
          ]
        }
      ]
    },
    {
      "cell_type": "code",
      "source": [
        "#insert(i,x)\n",
        "lst=[1,2,3,4]\n",
        "lst.insert(3,99)\n",
        "print(lst)"
      ],
      "metadata": {
        "colab": {
          "base_uri": "https://localhost:8080/"
        },
        "id": "RLoOlTFaJvJS",
        "outputId": "344770ab-7d39-4cee-df2b-022ce3ebf60c"
      },
      "execution_count": null,
      "outputs": [
        {
          "output_type": "stream",
          "name": "stdout",
          "text": [
            "[1, 2, 3, 99, 4]\n"
          ]
        }
      ]
    },
    {
      "cell_type": "code",
      "source": [
        "#pop()-removes and returns the last element\n",
        "lst=[1,2,3]\n",
        "lst.pop()\n",
        "print(lst)"
      ],
      "metadata": {
        "colab": {
          "base_uri": "https://localhost:8080/"
        },
        "id": "kZjPkq2zKogU",
        "outputId": "f605caa1-64ec-41fd-f0c5-47d6777a3940"
      },
      "execution_count": null,
      "outputs": [
        {
          "output_type": "stream",
          "name": "stdout",
          "text": [
            "[1, 2]\n"
          ]
        }
      ]
    },
    {
      "cell_type": "code",
      "source": [
        "#remove(x)-removes and return first occurance of element element x\n",
        "lst=[1,2,99,42,99]\n",
        "lst.remove(99)\n",
        "print(lst)\n"
      ],
      "metadata": {
        "colab": {
          "base_uri": "https://localhost:8080/"
        },
        "id": "QXsB2zaHK5OP",
        "outputId": "1199bbe6-ad63-4376-f85e-f425c2a7c065"
      },
      "execution_count": null,
      "outputs": [
        {
          "output_type": "stream",
          "name": "stdout",
          "text": [
            "[1, 2, 42, 99]\n"
          ]
        }
      ]
    },
    {
      "cell_type": "code",
      "source": [
        "#reverse()\n",
        "lst=[1,2,3,4]\n",
        "lst.reverse()\n",
        "print(lst)"
      ],
      "metadata": {
        "colab": {
          "base_uri": "https://localhost:8080/"
        },
        "id": "PHYPykiaLqRI",
        "outputId": "eb20016f-2d40-47fe-b424-f5f7d58d8a88"
      },
      "execution_count": null,
      "outputs": [
        {
          "output_type": "stream",
          "name": "stdout",
          "text": [
            "[4, 3, 2, 1]\n"
          ]
        }
      ]
    },
    {
      "cell_type": "code",
      "source": [
        "#sort()-ascending order\n",
        "lst=[5,4,3,3,2,1]\n",
        "lst.sort()\n",
        "print(lst)"
      ],
      "metadata": {
        "colab": {
          "base_uri": "https://localhost:8080/"
        },
        "id": "Lqv3rs7_L2jB",
        "outputId": "00abd768-f562-4604-c4c3-90e0832a5b39"
      },
      "execution_count": null,
      "outputs": [
        {
          "output_type": "stream",
          "name": "stdout",
          "text": [
            "[1, 2, 3, 3, 4, 5]\n"
          ]
        }
      ]
    }
  ]
}